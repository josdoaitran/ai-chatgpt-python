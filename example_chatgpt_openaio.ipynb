# Install library
!pip install --upgrade --quite openai

# Import library:
import openai
import IPython

# Set your OPEN_AI_KEY
OPENAI_API_KEY = "YOUR_TOKEN_KEY"
def set_open_params(
  model="text-davinci-003",
  temperature=0.7,
  max_token=256,
  top_p=1
  frequency_penalty=0,
  presence_penalty=0
):
